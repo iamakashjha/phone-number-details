{
 "cells": [
  {
   "cell_type": "markdown",
   "id": "cb65f6ec",
   "metadata": {},
   "source": [
    "# Phone Number details using Python\n",
    "We will check the phone number belongs to which country, Carrier, Time Zone?\n"
   ]
  },
  {
   "cell_type": "code",
   "execution_count": 2,
   "id": "77709537",
   "metadata": {},
   "outputs": [
    {
     "name": "stdout",
     "output_type": "stream",
     "text": [
      "Collecting phonenumbers\n",
      "  Obtaining dependency information for phonenumbers from https://files.pythonhosted.org/packages/93/48/6c3965f6c4f8614b1f8767b08d45cb68e91d83d87f55a89f201317539d53/phonenumbers-8.13.26-py2.py3-none-any.whl.metadata\n",
      "  Downloading phonenumbers-8.13.26-py2.py3-none-any.whl.metadata (11 kB)\n",
      "Downloading phonenumbers-8.13.26-py2.py3-none-any.whl (2.6 MB)\n",
      "\u001b[2K   \u001b[90m━━━━━━━━━━━━━━━━━━━━━━━━━━━━━━━━━━━━━━━━\u001b[0m \u001b[32m2.6/2.6 MB\u001b[0m \u001b[31m7.8 MB/s\u001b[0m eta \u001b[36m0:00:00\u001b[0m00:01\u001b[0m00:01\u001b[0m\n",
      "\u001b[?25hInstalling collected packages: phonenumbers\n",
      "Successfully installed phonenumbers-8.13.26\n",
      "Note: you may need to restart the kernel to use updated packages.\n"
     ]
    }
   ],
   "source": [
    "#install phonenumbers module\n",
    "\n",
    "pip install phonenumbers"
   ]
  },
  {
   "cell_type": "code",
   "execution_count": 5,
   "id": "42f96cd6",
   "metadata": {},
   "outputs": [],
   "source": [
    "# Importing functions\n",
    "import phonenumbers\n",
    "from phonenumbers import timezone, geocoder, carrier"
   ]
  },
  {
   "cell_type": "code",
   "execution_count": 6,
   "id": "128d1758",
   "metadata": {},
   "outputs": [
    {
     "name": "stdout",
     "output_type": "stream",
     "text": [
      "Enter your full number: +919104485431\n",
      "Country Code: 91 National Number: 9104485431\n",
      "('Asia/Calcutta',)\n",
      "Telewings\n",
      "India\n"
     ]
    }
   ],
   "source": [
    "#taking phone number from user\n",
    "\n",
    "num = str(input(\"Enter your full number: \"))\n",
    "phone = phonenumbers.parse(num)\n",
    "time = timezone.time_zones_for_number(phone)\n",
    "cr = carrier.name_for_number(phone, \"en\")\n",
    "reg = geocoder.description_for_number(phone, \"en\")\n",
    "print(phone)\n",
    "print(time)\n",
    "print(cr)\n",
    "print(reg)"
   ]
  },
  {
   "cell_type": "code",
   "execution_count": null,
   "id": "265e4d78",
   "metadata": {},
   "outputs": [],
   "source": []
  }
 ],
 "metadata": {
  "kernelspec": {
   "display_name": "Python 3 (ipykernel)",
   "language": "python",
   "name": "python3"
  },
  "language_info": {
   "codemirror_mode": {
    "name": "ipython",
    "version": 3
   },
   "file_extension": ".py",
   "mimetype": "text/x-python",
   "name": "python",
   "nbconvert_exporter": "python",
   "pygments_lexer": "ipython3",
   "version": "3.11.4"
  }
 },
 "nbformat": 4,
 "nbformat_minor": 5
}
